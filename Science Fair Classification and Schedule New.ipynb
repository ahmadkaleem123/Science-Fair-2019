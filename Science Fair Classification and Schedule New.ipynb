{
 "cells": [
  {
   "cell_type": "code",
   "execution_count": 1,
   "metadata": {},
   "outputs": [
    {
     "name": "stdout",
     "output_type": "stream",
     "text": [
      "Which activity would you like?Work\n",
      "Starting time for activity 1:18:26\n",
      "End time for activity 1:18:46\n",
      "Which activity would you like?Work\n",
      "Starting time for activity 2:12:53\n",
      "End time for activity 2:13:33\n",
      "Which activity would you like?Outside\n",
      "Starting time for activity 3:16:52\n",
      "End time for activity 3:17:07\n",
      "['Work', 'Work', 'Outside']\n",
      "[21, 41, 16]\n"
     ]
    }
   ],
   "source": [
    "activities = []\n",
    "times = []\n",
    "#x = input(\"What activity would you like from 15:00 - 16:00\")\n",
    "#activities.append(x)\n",
    "#y = input(\"What activity would you like from 11:00 - 12:00\")\n",
    "#activities.append(y)\n",
    "#print(activities)\n",
    "for i in range(3):\n",
    "    x = input(\"Which activity would you like?\")\n",
    "    activities.append(x)\n",
    "    a = input(\"Starting time for activity \" + str(i+1) + \":\")\n",
    "    b = input(\"End time for activity \" + str(i+1) + \":\")\n",
    "    pos1 = a.find(':')\n",
    "    h11 = int(a[:pos1])\n",
    "    h21 = int(a[pos1 + 1:])\n",
    "    pos2 = b.find(':')\n",
    "    h12 = int(b[:pos2])\n",
    "    h22 = int(b[pos2 + 1:])\n",
    "    h = h12 - h11\n",
    "    m = h22 - h21\n",
    "    times.append((60*h)+m + 1)\n",
    "print(activities)\n",
    "print(times)"
   ]
  },
  {
   "cell_type": "code",
   "execution_count": 2,
   "metadata": {},
   "outputs": [
    {
     "name": "stderr",
     "output_type": "stream",
     "text": [
      "Using TensorFlow backend.\n"
     ]
    }
   ],
   "source": [
    "import h5py\n",
    "from keras.models import load_model\n",
    "model = load_model('scifair.h5')\n",
    "from PIL import Image\n",
    "from keras.preprocessing.image import load_img\n",
    "from keras.preprocessing.image import img_to_array\n",
    "import numpy as np\n",
    "import matplotlib.pyplot as plt\n",
    "import time\n",
    "%matplotlib inline"
   ]
  },
  {
   "cell_type": "code",
   "execution_count": 3,
   "metadata": {
    "collapsed": true
   },
   "outputs": [],
   "source": [
    "import glob\n",
    "i = 1\n",
    "for filename in glob.glob('Live Images/*.jpg'):\n",
    "    img = Image.open(filename)\n",
    "    img = img.crop((800,800,2400,1800))\n",
    "    img.save('Live Images/' + str(i) + '.jpg', 'JPEG')\n",
    "    i += 1"
   ]
  },
  {
   "cell_type": "code",
   "execution_count": 4,
   "metadata": {
    "collapsed": true
   },
   "outputs": [],
   "source": [
    "concen = 0\n",
    "distract = 0\n",
    "wrong = 0\n",
    "na = 0\n",
    "predicted = []\n",
    "start = 1\n",
    "for i in range(len(activities)):\n",
    "    for j in range(start, start + (times[i] * 2)) :\n",
    "        k = str(j)\n",
    "        img = Image.open('Live Images/' + k + '.jpg')\n",
    "        img = img.resize((150,150))\n",
    "        x = img_to_array(img)\n",
    "        x = x/255.\n",
    "        x = np.expand_dims(x, axis=0)\n",
    "        x = np.vstack([x])\n",
    "        y = model.predict(x)\n",
    "        y = y[0]\n",
    "        if (sum(y) != 0):\n",
    "            act = np.argmax(y)\n",
    "            if(act == 0):\n",
    "                activ = 'Outside'\n",
    "            elif(act == 1):\n",
    "                activ = 'Phone'\n",
    "            elif(act == 2):\n",
    "                activ = 'Work'\n",
    "            predicted.append(activ)\n",
    "            if(activ == activities[i]):\n",
    "                concen += 1\n",
    "            elif(activ == 'Phone'):\n",
    "                distract += 1\n",
    "            else:\n",
    "                wrong += 1\n",
    "        else:\n",
    "            na +=1\n",
    "            predicted.append('NAN')\n",
    "            #time.sleep(60)\n",
    "    start = start + (times[i] * 2)"
   ]
  },
  {
   "cell_type": "code",
   "execution_count": 5,
   "metadata": {},
   "outputs": [
    {
     "name": "stdout",
     "output_type": "stream",
     "text": [
      "['Work', 'Phone', 'Phone', 'Phone', 'Phone', 'Phone', 'Phone', 'Phone', 'Phone', 'Phone', 'Phone', 'Phone', 'Phone', 'Phone', 'Phone', 'Phone', 'Phone', 'Phone', 'Phone', 'Work', 'Work', 'Work', 'Work', 'Work', 'Work', 'Work', 'Work', 'Work', 'Work', 'Work', 'Phone', 'Phone', 'Phone', 'Phone', 'Work', 'Work', 'Work', 'Work', 'Work', 'Phone', 'Phone', 'Work', 'Phone', 'Phone', 'Phone', 'Work', 'Work', 'Phone', 'Work', 'Phone', 'Phone', 'Work', 'Phone', 'Work', 'Phone', 'Phone', 'Phone', 'Phone', 'Work', 'Phone', 'Work', 'Work', 'Work', 'Work', 'Phone', 'Work', 'Phone', 'Phone', 'Phone', 'Work', 'Work', 'Work', 'Outside', 'Work', 'Work', 'Work', 'Work', 'Work', 'Work', 'Work', 'Work', 'Work', 'Work', 'Work', 'Work', 'Work', 'Work', 'Work', 'Work', 'Work', 'Phone', 'Outside', 'Phone', 'Outside', 'Outside', 'Work', 'Work', 'Work', 'Work', 'Work', 'Work', 'Work', 'Work', 'Work', 'Work', 'Phone', 'Work', 'Work', 'Work', 'Work', 'Work', 'Outside', 'Work', 'Work', 'Outside', 'Work', 'Work', 'Outside', 'Outside', 'Work', 'Work', 'Work', 'Work', 'Work', 'Outside', 'Outside', 'Outside', 'Outside', 'Outside', 'Outside', 'Outside', 'Outside', 'Outside', 'Outside', 'Outside', 'Outside', 'Outside', 'Outside', 'Outside', 'Outside', 'Outside', 'Outside', 'Outside', 'Outside', 'Outside', 'Outside', 'Outside', 'Outside', 'Outside', 'Outside', 'Outside', 'Outside', 'Outside', 'Outside', 'Outside', 'Outside']\n"
     ]
    }
   ],
   "source": [
    "print(predicted)"
   ]
  },
  {
   "cell_type": "code",
   "execution_count": 6,
   "metadata": {},
   "outputs": [
    {
     "name": "stdout",
     "output_type": "stream",
     "text": [
      "{1: 'Work', 2: 'Phone', 3: 'Phone', 4: 'Phone', 5: 'Phone', 6: 'Phone', 7: 'Phone', 8: 'Phone', 9: 'Phone', 10: 'Phone', 11: 'Phone', 12: 'Phone', 13: 'Phone', 14: 'Phone', 15: 'Phone', 16: 'Phone', 17: 'Phone', 18: 'Phone', 19: 'Phone', 20: 'Work', 21: 'Work', 22: 'Work', 23: 'Work', 24: 'Work', 25: 'Work', 26: 'Work', 27: 'Work', 28: 'Work', 29: 'Work', 30: 'Work', 31: 'Phone', 32: 'Phone', 33: 'Phone', 34: 'Phone', 35: 'Work', 36: 'Work', 37: 'Work', 38: 'Work', 39: 'Work', 40: 'Phone', 41: 'Phone', 42: 'Work', 43: 'Phone', 44: 'Phone', 45: 'Phone', 46: 'Work', 47: 'Work', 48: 'Phone', 49: 'Work', 50: 'Phone', 51: 'Phone', 52: 'Work', 53: 'Phone', 54: 'Work', 55: 'Phone', 56: 'Phone', 57: 'Phone', 58: 'Phone', 59: 'Work', 60: 'Phone', 61: 'Work', 62: 'Work', 63: 'Work', 64: 'Work', 65: 'Phone', 66: 'Work', 67: 'Phone', 68: 'Phone', 69: 'Phone', 70: 'Work', 71: 'Work', 72: 'Work', 73: 'Outside', 74: 'Work', 75: 'Work', 76: 'Work', 77: 'Work', 78: 'Work', 79: 'Work', 80: 'Work', 81: 'Work', 82: 'Work', 83: 'Work', 84: 'Work', 85: 'Work', 86: 'Work', 87: 'Work', 88: 'Work', 89: 'Work', 90: 'Work', 91: 'Phone', 92: 'Outside', 93: 'Phone', 94: 'Outside', 95: 'Outside', 96: 'Work', 97: 'Work', 98: 'Work', 99: 'Work', 100: 'Work', 101: 'Work', 102: 'Work', 103: 'Work', 104: 'Work', 105: 'Work', 106: 'Phone', 107: 'Work', 108: 'Work', 109: 'Work', 110: 'Work', 111: 'Work', 112: 'Outside', 113: 'Work', 114: 'Work', 115: 'Outside', 116: 'Work', 117: 'Work', 118: 'Outside', 119: 'Outside', 120: 'Work', 121: 'Work', 122: 'Work', 123: 'Work', 124: 'Work', 125: 'Outside', 126: 'Outside', 127: 'Outside', 128: 'Outside', 129: 'Outside', 130: 'Outside', 131: 'Outside', 132: 'Outside', 133: 'Outside', 134: 'Outside', 135: 'Outside', 136: 'Outside', 137: 'Outside', 138: 'Outside', 139: 'Outside', 140: 'Outside', 141: 'Outside', 142: 'Outside', 143: 'Outside', 144: 'Outside', 145: 'Outside', 146: 'Outside', 147: 'Outside', 148: 'Outside', 149: 'Outside', 150: 'Outside', 151: 'Outside', 152: 'Outside', 153: 'Outside', 154: 'Outside', 155: 'Outside', 156: 'Outside'}\n"
     ]
    }
   ],
   "source": [
    "dict = {}\n",
    "for i in range(1,len(predicted) + 1):\n",
    "    dict[i] = predicted[i-1]\n",
    "print(dict)"
   ]
  },
  {
   "cell_type": "code",
   "execution_count": 7,
   "metadata": {},
   "outputs": [
    {
     "name": "stdout",
     "output_type": "stream",
     "text": [
      "43\n"
     ]
    }
   ],
   "source": [
    "print(distract)"
   ]
  },
  {
   "cell_type": "code",
   "execution_count": 8,
   "metadata": {},
   "outputs": [
    {
     "name": "stdout",
     "output_type": "stream",
     "text": [
      "105\n"
     ]
    }
   ],
   "source": [
    "print(concen)"
   ]
  },
  {
   "cell_type": "code",
   "execution_count": 9,
   "metadata": {},
   "outputs": [
    {
     "name": "stdout",
     "output_type": "stream",
     "text": [
      "8\n"
     ]
    }
   ],
   "source": [
    "print(wrong)"
   ]
  },
  {
   "cell_type": "code",
   "execution_count": 10,
   "metadata": {},
   "outputs": [
    {
     "name": "stdout",
     "output_type": "stream",
     "text": [
      "Phone\n"
     ]
    }
   ],
   "source": [
    "print(predicted[1])"
   ]
  },
  {
   "cell_type": "code",
   "execution_count": 11,
   "metadata": {},
   "outputs": [
    {
     "name": "stdout",
     "output_type": "stream",
     "text": [
      "Your concentration level today was 67.3076923076923 percent.\n"
     ]
    }
   ],
   "source": [
    "print(\"Your concentration level today was \" + str(100*concen/(concen+wrong+distract)) + \" percent.\")"
   ]
  },
  {
   "cell_type": "code",
   "execution_count": null,
   "metadata": {
    "collapsed": true
   },
   "outputs": [],
   "source": []
  }
 ],
 "metadata": {
  "kernelspec": {
   "display_name": "Python 3",
   "language": "python",
   "name": "python3"
  },
  "language_info": {
   "codemirror_mode": {
    "name": "ipython",
    "version": 3
   },
   "file_extension": ".py",
   "mimetype": "text/x-python",
   "name": "python",
   "nbconvert_exporter": "python",
   "pygments_lexer": "ipython3",
   "version": "3.5.4"
  }
 },
 "nbformat": 4,
 "nbformat_minor": 2
}
